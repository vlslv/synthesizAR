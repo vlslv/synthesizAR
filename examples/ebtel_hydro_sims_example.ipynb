{
 "cells": [
  {
   "cell_type": "markdown",
   "metadata": {
    "nbpresent": {
     "id": "16ad226a-c75b-4ca5-9360-267dd9291274"
    }
   },
   "source": [
    "# Loop Hydrodynamic Simulations Example\n",
    "In this notebook, we'll create a simulated active region, along with the loop components, and then simulate the evolution of these loops using EBTEL."
   ]
  },
  {
   "cell_type": "code",
   "execution_count": null,
   "metadata": {
    "collapsed": false,
    "nbpresent": {
     "id": "55e89a7a-c236-4019-a471-81239024fa7b"
    }
   },
   "outputs": [],
   "source": [
    "import os\n",
    "import subprocess\n",
    "\n",
    "import numpy as np\n",
    "import matplotlib.pyplot as plt\n",
    "import seaborn as sns\n",
    "import astropy.units as u\n",
    "from sunpy.net import vso\n",
    "\n",
    "import synthesizAR\n",
    "from synthesizAR.model_ext import UniformHeating,PowerLawScaledWaitingTimes,PowerLawUnscaledWaitingTimes\n",
    "from synthesizAR.model_ext import EbtelInterface \n",
    "\n",
    "%matplotlib inline"
   ]
  },
  {
   "cell_type": "markdown",
   "metadata": {
    "nbpresent": {
     "id": "0b3089b6-fcec-462f-ba66-6f78cc90ec76"
    }
   },
   "source": [
    "## Magnetic Skeleton\n",
    "Query an HMI magnetogram, extrapolate the field, and trace the fieldlines.\n",
    "\n",
    "First, get the HMI data."
   ]
  },
  {
   "cell_type": "code",
   "execution_count": null,
   "metadata": {
    "collapsed": false,
    "nbpresent": {
     "id": "671cb800-c8db-49e5-908e-7c6dd07ed138"
    }
   },
   "outputs": [],
   "source": [
    "#VSO not returning anything for some reason...\n",
    "client = vso.VSOClient()\n",
    "result_hmi = client.query(\n",
    "     vso.attrs.Time((2013, 1, 1, 7, 34, 0), (2013, 1, 1, 9, 0, 0)),\n",
    "     vso.attrs.Instrument('HMI'),\n",
    "     vso.attrs.Physobs('LOS_magnetic_field'),   # Physical observables\n",
    "     vso.attrs.Sample(5000 * u.s)\n",
    ")\n",
    "data_hmi = client.get(result_hmi,methods=('URL-FILE_Rice','URL-FILE')).wait()"
   ]
  },
  {
   "cell_type": "code",
   "execution_count": null,
   "metadata": {
    "collapsed": true,
    "nbpresent": {
     "id": "80e713ab-b49b-4e8b-8d25-bf37526de37b"
    }
   },
   "outputs": [],
   "source": [
    "#data_hmi = ['/Users/willbarnes/sunpy/data/hmi_m_45s_2013_01_01_07_35_15_tai_magnetogram.0.fits']"
   ]
  },
  {
   "cell_type": "markdown",
   "metadata": {
    "nbpresent": {
     "id": "de116d5b-b791-4f66-9211-076ef5a5c326"
    }
   },
   "source": [
    "Resample and crop the observation,"
   ]
  },
  {
   "cell_type": "code",
   "execution_count": null,
   "metadata": {
    "collapsed": true,
    "nbpresent": {
     "id": "dab7cb8a-d590-4fd5-b21b-6683a2d9f6ad"
    }
   },
   "outputs": [],
   "source": [
    "crop = (u.Quantity([-140,90]*u.arcsec),u.Quantity([420,560]*u.arcsec))\n",
    "resample = u.Quantity([100,100]*u.pixel)"
   ]
  },
  {
   "cell_type": "markdown",
   "metadata": {
    "nbpresent": {
     "id": "9204a6cf-6967-4faa-af88-8fe93a740f81"
    }
   },
   "source": [
    "Create the skeleton,"
   ]
  },
  {
   "cell_type": "code",
   "execution_count": null,
   "metadata": {
    "collapsed": false,
    "nbpresent": {
     "id": "1252e306-9a63-4c98-a9c3-e79e3eb82286"
    }
   },
   "outputs": [],
   "source": [
    "field = synthesizAR.Skeleton(data_hmi[0],crop=crop,resample=resample)\n",
    "zshape=50\n",
    "zrange=u.Quantity([0.,150.]*u.arcsec)\n",
    "field.extrapolate_field(zshape,zrange)"
   ]
  },
  {
   "cell_type": "markdown",
   "metadata": {
    "nbpresent": {
     "id": "54491f5d-1776-4db3-9387-ce2a965d542e"
    }
   },
   "source": [
    "Trace the fieldlines,"
   ]
  },
  {
   "cell_type": "code",
   "execution_count": null,
   "metadata": {
    "collapsed": false,
    "nbpresent": {
     "id": "e9048d0c-9b96-476c-9269-8e7ee165027d"
    }
   },
   "outputs": [],
   "source": [
    "field.extract_streamlines(500)"
   ]
  },
  {
   "cell_type": "markdown",
   "metadata": {
    "nbpresent": {
     "id": "f87fba39-6a83-402a-b5ad-dcf22e068284"
    }
   },
   "source": [
    "Take a quick look at the extrapolated field."
   ]
  },
  {
   "cell_type": "code",
   "execution_count": null,
   "metadata": {
    "collapsed": false,
    "nbpresent": {
     "id": "b94a5642-ec2a-46a7-a853-ed2f5adfb338"
    }
   },
   "outputs": [],
   "source": [
    "field.peek(alpha=0.5)"
   ]
  },
  {
   "cell_type": "markdown",
   "metadata": {
    "nbpresent": {
     "id": "0d94dd22-d887-4a07-9b68-e6647076067b"
    }
   },
   "source": [
    "## Loops\n",
    "Now, we'll use the individual streamlines as loops and compute the evolution of each with EBTEL. We can make 200 loop objects out of the streamlines by using,"
   ]
  },
  {
   "cell_type": "code",
   "execution_count": null,
   "metadata": {
    "collapsed": true,
    "nbpresent": {
     "id": "65f19c64-892f-4fe3-a90f-de0381921177"
    }
   },
   "outputs": [],
   "source": [
    "field.make_loops()"
   ]
  },
  {
   "cell_type": "markdown",
   "metadata": {},
   "source": [
    "Take a quick look at what the field-strength as a function of $s$ looks like."
   ]
  },
  {
   "cell_type": "code",
   "execution_count": null,
   "metadata": {
    "collapsed": false
   },
   "outputs": [],
   "source": [
    "plt.figure(figsize=(8,8))\n",
    "for loop in field.loops:\n",
    "    plt.plot(loop.field_aligned_coordinate/loop.full_length,loop.field_strength,\n",
    "             alpha=0.1,color=sns.color_palette('deep')[2])\n",
    "plt.ylabel(r'$B$ ($\\mathrm{{ {} }}$)'.format(loop.field_strength.unit.name))\n",
    "plt.xlabel(r'$s$ ($\\mathrm{{ {} }}$)'.format(loop.field_aligned_coordinate.unit.name))\n",
    "plt.xlim([0,1])"
   ]
  },
  {
   "cell_type": "markdown",
   "metadata": {
    "nbpresent": {
     "id": "30a30a42-774f-4053-a004-db055c0833e8"
    }
   },
   "source": [
    "Now, we want to configure an EBTEL run for each of these loop objects. But how will these loops be heated? To specify this, we configure a heating model object."
   ]
  },
  {
   "cell_type": "code",
   "execution_count": null,
   "metadata": {
    "collapsed": true,
    "nbpresent": {
     "id": "3203dad2-11a2-41d9-88d1-2de8aa54b814"
    }
   },
   "outputs": [],
   "source": [
    "heating_options = {\n",
    "    'duration':200.0,\n",
    "    'duration_rise':50.0,\n",
    "    'duration_decay':100.0,\n",
    "    'average_waiting_time':1000.0,\n",
    "    'stress_level':0.3,\n",
    "    'alpha':-1.5,\n",
    "    'delta_power_law_bounds':100,\n",
    "    'waiting_time_scaling':1.0,\n",
    "}\n",
    "uni_model = UniformHeating(heating_options)\n",
    "pl_model = PowerLawUnscaledWaitingTimes(heating_options)\n",
    "pl_scaled_model = PowerLawScaledWaitingTimes(heating_options)"
   ]
  },
  {
   "cell_type": "markdown",
   "metadata": {
    "nbpresent": {
     "id": "8e5d7280-36e9-4e08-b4c8-17107d3db46a"
    }
   },
   "source": [
    "Now, load in a base dictionary (from the included example ebtel++ config file) for setting up all of the EBTEL parameters. When configuring the AR loops, we'll only need to alter a few parameters."
   ]
  },
  {
   "cell_type": "code",
   "execution_count": null,
   "metadata": {
    "collapsed": true,
    "nbpresent": {
     "id": "21ff8420-1815-4fd2-87a8-2143347e2dd8"
    }
   },
   "outputs": [],
   "source": [
    "ih = synthesizAR.util.InputHandler(os.path.join(os.environ['EXP_DIR'],'ebtelPlusPlus/config/ebtel.example.cfg.xml'))"
   ]
  },
  {
   "cell_type": "code",
   "execution_count": null,
   "metadata": {
    "collapsed": true,
    "nbpresent": {
     "id": "9a8a4bfb-19f0-4778-9ba6-32434eaa67db"
    }
   },
   "outputs": [],
   "source": [
    "base_config = ih.lookup_vars()"
   ]
  },
  {
   "cell_type": "code",
   "execution_count": null,
   "metadata": {
    "collapsed": false,
    "nbpresent": {
     "id": "d1bf4d6b-4062-4c40-ac5c-46098a1d5f75"
    }
   },
   "outputs": [],
   "source": [
    "base_config['use_adaptive_solver'] = True\n",
    "base_config['rka_error'] = 1e-8\n",
    "base_config['total_time'] = 25000.0"
   ]
  },
  {
   "cell_type": "markdown",
   "metadata": {
    "nbpresent": {
     "id": "94c690e1-5a20-4479-b321-036590b19acb"
    }
   },
   "source": [
    "Next, instantiate the EBTEL interface for loading and configuring EBTEL input and output from and to the field object."
   ]
  },
  {
   "cell_type": "code",
   "execution_count": null,
   "metadata": {
    "collapsed": true,
    "nbpresent": {
     "id": "5306e6a5-07a6-486b-8203-5ab60b8918af"
    }
   },
   "outputs": [],
   "source": [
    "ebtel_plug = EbtelInterface(base_config,pl_scaled_model)"
   ]
  },
  {
   "cell_type": "markdown",
   "metadata": {
    "nbpresent": {
     "id": "aaf88b2b-8314-4814-ad1b-ce0f59340e3b"
    }
   },
   "source": [
    "Finally, hand the EBTEL interface to the field and create the configuration files."
   ]
  },
  {
   "cell_type": "code",
   "execution_count": null,
   "metadata": {
    "collapsed": false,
    "nbpresent": {
     "id": "f6eaa842-beb2-47af-92fd-14de78c6b111"
    },
    "scrolled": true
   },
   "outputs": [],
   "source": [
    "field.configure_loop_simulations(ebtel_plug,\n",
    "                                 parent_config_dir='/Users/willbarnes/Desktop/synth_ebtel_test/config/',\n",
    "                                 parent_results_dir='/Users/willbarnes/Desktop/synth_ebtel_test/results')"
   ]
  },
  {
   "cell_type": "markdown",
   "metadata": {
    "nbpresent": {
     "id": "96c7ab12-b4ad-449f-bb59-eb1bd3b57b52"
    }
   },
   "source": [
    "And run the simulations,"
   ]
  },
  {
   "cell_type": "code",
   "execution_count": null,
   "metadata": {
    "collapsed": true,
    "nbpresent": {
     "id": "d68fd5b3-5ba8-4b4e-a80e-4600d3aa8932"
    }
   },
   "outputs": [],
   "source": [
    "for loop in field.loops:\n",
    "    subprocess.call([os.path.join(os.environ['EXP_DIR'],'ebtelPlusPlus/bin/ebtel++.run'),\n",
    "                     '-c',loop.hydro_configuration['config_filename']])"
   ]
  },
  {
   "cell_type": "markdown",
   "metadata": {
    "nbpresent": {
     "id": "a5844f4f-710e-4584-9b07-14f1ec9fcea9"
    }
   },
   "source": [
    "And load the temperature and density profiles back into the loop."
   ]
  },
  {
   "cell_type": "code",
   "execution_count": null,
   "metadata": {
    "collapsed": true,
    "nbpresent": {
     "id": "3e96255d-88c2-4f9d-b52b-86030a83e7ea"
    }
   },
   "outputs": [],
   "source": [
    "field.load_loop_simulations(ebtel_plug)"
   ]
  },
  {
   "cell_type": "code",
   "execution_count": null,
   "metadata": {
    "collapsed": false,
    "nbpresent": {
     "id": "1c1a835b-9708-4f39-ae0c-36566c2bc523"
    }
   },
   "outputs": [],
   "source": [
    "fig,ax = plt.subplots(2,1,figsize=(8,10))\n",
    "for loop in [field.loops[0],field.loops[2]]:\n",
    "    #ax[0].plot()\n",
    "    ax[0].plot(loop.time,loop.temperature[:,0],color=sns.color_palette()[0],alpha=0.1)\n",
    "    ax[1].plot(loop.time,loop.density[:,0],color=sns.color_palette()[1],alpha=0.1)"
   ]
  },
  {
   "cell_type": "code",
   "execution_count": null,
   "metadata": {
    "collapsed": true
   },
   "outputs": [],
   "source": []
  }
 ],
 "metadata": {
  "anaconda-cloud": {},
  "kernelspec": {
   "display_name": "Python [conda env:synthesizar]",
   "language": "python",
   "name": "conda-env-synthesizar-py"
  },
  "language_info": {
   "codemirror_mode": {
    "name": "ipython",
    "version": 3
   },
   "file_extension": ".py",
   "mimetype": "text/x-python",
   "name": "python",
   "nbconvert_exporter": "python",
   "pygments_lexer": "ipython3",
   "version": "3.5.2"
  }
 },
 "nbformat": 4,
 "nbformat_minor": 0
}
